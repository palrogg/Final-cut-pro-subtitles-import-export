{
 "cells": [
  {
   "cell_type": "markdown",
   "metadata": {},
   "source": [
    "# Exportateur de sous-titres\n",
    "\n",
    "Lit et affiche les sous-titres de Final Cut Pro enregistrés au format XML.\n",
    "\n",
    "Ces fichiers s'exportent en faisant Fichier > Exporter vers XML… dans Final Cut Pro. Il faut les placer dans le dossier «input» de ce repo."
   ]
  },
  {
   "cell_type": "code",
   "execution_count": 1,
   "metadata": {
    "collapsed": true
   },
   "outputs": [],
   "source": [
    "from glob import glob\n",
    "from bs4 import BeautifulSoup"
   ]
  },
  {
   "cell_type": "code",
   "execution_count": 2,
   "metadata": {},
   "outputs": [],
   "source": [
    "files = glob('input/*.fcpxml')"
   ]
  },
  {
   "cell_type": "code",
   "execution_count": 3,
   "metadata": {},
   "outputs": [
    {
     "name": "stdout",
     "output_type": "stream",
     "text": [
      "\n",
      "File: input/24-01-18_davos_blake_texte.fcpxml \n",
      "\n",
      "Pierre Ruetschi: Vous suivez avec attention M. Trump pour le New York Times\n",
      "Comment expliquer que M. Trump ait à ce point souhaité se rendre à Davos, temple de la mondialisation?\n",
      "Peter Blake: C'est très surprenant, n'est-ce pas? Son discours est bien sûr \"l'Amérique avant les autres\"\n",
      "Il est opposé à tous ces accords commerciaux, qu'il considère comme injustes. Donc pourquoi serait-il ici?\n",
      "Je pense qu'une des raisons est que durant \n",
      "Il a cherché le respect de tous ceux qui viennent à Davos,\n",
      "Mais aujourd'hui, ils doivent le respecter \n",
      "Donc pour lui, c'est un peu une victoire. Il peut leur dire: \"C'est moi le boss, vous ne pouvez plus m'ignorer\"\n",
      "Je pense que politiquement, c'est aussi une opportunité pour lui de parler des avancées de l'économie américaine \n",
      "Et de parler de sa vision de l'économie internationale par rapport à ce qu'on entend ici à Davos\n",
      "Je ne pense pas qu'il jouera particulièrement \n",
      "Mais il va apporter un autre point vue. Sa position est que le commerce international est acceptable si équitable\n",
      "Et que les États-Unis n'ont pas été traités \n",
      "Le public ne devrait pas abonder dans ce sens\n",
      "Beaucoup pensent que les États-Unis s'en sont très bien sortis durant les dernières décennies\n",
      "Mais il représente une partie des États-Unis \n",
      "Qui pense qu'elle a été dupée par les autres nations, \n",
      "Par des forces économiques qui la dépassent\n",
      "Donc il veut venir ici et affronter les prêtres \n",
      "P.R.: Le Trump de Twitter et celui qui va s'adresser \n",
      "P.B.: Je pense qu'il s'agit \n",
      "Je pense que ce qu'il dit sur Twitter est vraiment \n",
      "Ensuite, il s'asseoit parfois à la table de personnes \n",
      "Et il essaie très fortement de trouver un terrain d'entente, parce qu'il veut être aimé, parce qu'il veut faire des deals\n",
      "Donc ce sont deux facettes authentiques de sa personnaltié, qui s'alternent et s'affrontent chez Trump\n",
      "Est-il ce guerrier belliqueux \n",
      "Où est-il un négociateur? \n",
      "Il a plus été le premier que le second durant l'année \n",
      "P.R.: Qu'est-ce qui a fondamentalement changé durant cette année à la Maison-Blanche?\n",
      "P.B.: Beaucoup de choses ont changé. \n",
      "Il n'a rien a voir avec tous les autres!\n",
      "Il ne respecte aucune des conventions ou règles auxquelles se soumettent les autres présidents \n",
      "C'est pourquoi il est populaire \n",
      "Ils aiment le fait qu'il fasse voler en éclats les normes.\n",
      "Mais pour les professionnels à Washington,\n",
      "Il apparaît un peu comme un chien fou, quelqu'un d'imprévisible, et donc sur qui il est difficile de compter\n",
      "\n",
      "File: input/25-01-18_time_molly_ball.fcpxml \n",
      "\n",
      "Pierre Ruetschi: Quels vont être, selon vous, les propos de Trump à Davos?\n",
      "Molly Ball: Il y a vraiment deux possibilités. La première est qu'il soit venu provoquer les gens de Davos\n",
      "La seconde est qu'il soit ici pour les flatter. Pour le moment, les signaux de la Maison-Blanche sont contradictoires\n",
      "Trump a fait campagne contre les idées de Davos, sa globalisation et ses élites cosmopolites\n",
      "Les valeurs discutées ici de collaboration, de coopération entre les pays sont à l'opposé de sa philosophie\n",
      "C'est possible qu'il vienne ici avec un message de conciliation, visant à montrer qu'il n'est pas si terrible\n",
      "L'autre possibilité est qu'il soit ici pour dire: \n",
      "P.R.: Que cherche-t-il en venant à Davos?\n",
      "M.B.: C'est extrêmement mystérieux. Beaucoup de gens \n",
      "Je pense qu'il y a une réponse psychologique. Trump a toujours eu une certaine insécurité concernant son statut\n",
      "Même en étant le président des États-Unis. Même en étant peut-être la personne la plus importante au monde\n",
      "Il désire être perçu comme une de ces élites \n",
      "P.R.: Comment expliquez-vous sa passion pour Twitter?\n",
      "M.B.: Trump est déjà arrivé à Davos. \n",
      "On ne sait jamais quand Trump va tweeter. Ça se passe souvent tôt le matin ou tard le soir, quand il a du temps pour lui\n",
      "Quand il regarde la télévision aussi. C'est très impulsif. \n",
      "Mais aujourd'hui, nous savons que ce n'est pas le cas. \n",
      "Donc si quelque chose le dérange, \n",
      "Son entourage sait que c'est une mauvaise habitude. \n",
      "Mais ils ne peuvent pas l'arrêter. Ils savent aussi que c'est une soupape dont il a besoin. Donc ils le tolèrent\n",
      "Trump peut être considéré comme du pain bénit \n",
      "D'un côté, Trump est un sujet fascinant. Et il a permis à de nombreuses personnes de se passionner pour la politique\n",
      "Plus personne ne me dit que mon job est ennuyeux!\n",
      "Mais d'un autre côté, son ambivalence \n",
      "A un effet destructeur sur la confiance que nous accorde le public et sur notre perception comme service d'utilité publique\n",
      "Malgré l'importance de la liberté d'expression \n",
      "Trump passe son temps à lancer de fausses accusations contre les médias\n",
      "Ils sont accusés de mentir quand lui-même \n",
      "Sur ce point-là, je pense que c'est très destructeur \n"
     ]
    }
   ],
   "source": [
    "for file in files:\n",
    "    with open(file, 'r') as f:\n",
    "        data = f.read()\n",
    "        xml = BeautifulSoup(data, 'lxml')\n",
    "    titles = xml.find_all('title')\n",
    "    titles = [i.get('name') for i in titles if i.get('name').find('FB_2') > 0]\n",
    "    \n",
    "    # edit this line to write your subtitle name\n",
    "    remove_str = ' - _Sous-titre_FB_2'\n",
    "    print('\\nFile:', file, '\\n')\n",
    "    print(\"\\n\".join(titles).replace(remove_str, ''))\n"
   ]
  },
  {
   "cell_type": "code",
   "execution_count": null,
   "metadata": {
    "collapsed": true
   },
   "outputs": [],
   "source": []
  }
 ],
 "metadata": {
  "kernelspec": {
   "display_name": "Python 3",
   "language": "python",
   "name": "python3"
  },
  "language_info": {
   "codemirror_mode": {
    "name": "ipython",
    "version": 3
   },
   "file_extension": ".py",
   "mimetype": "text/x-python",
   "name": "python",
   "nbconvert_exporter": "python",
   "pygments_lexer": "ipython3",
   "version": "3.5.1"
  }
 },
 "nbformat": 4,
 "nbformat_minor": 2
}
