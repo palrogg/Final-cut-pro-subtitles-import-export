{
 "cells": [
  {
   "cell_type": "markdown",
   "metadata": {},
   "source": [
    "# Importateur de sous-titres\n",
    "\n",
    "Transforme des lignes de textes en sous-titres Final Cut Pro enregistrés au format XML."
   ]
  },
  {
   "cell_type": "code",
   "execution_count": 1,
   "metadata": {
    "collapsed": true
   },
   "outputs": [],
   "source": [
    "with open('xml_model.fcpxml', 'r') as f:\n",
    "    data = f.read()"
   ]
  },
  {
   "cell_type": "code",
   "execution_count": 2,
   "metadata": {
    "collapsed": true
   },
   "outputs": [],
   "source": [
    "with open('Vidéo J1 – C’est quoi les Paradise Papers .docx.txt', 'r') as f2:\n",
    "    lines = f2.readlines()"
   ]
  },
  {
   "cell_type": "code",
   "execution_count": 3,
   "metadata": {},
   "outputs": [
    {
     "data": {
      "text/plain": [
       "['Vidéo J1 – Teaser Paradise Papers',\n",
       " 'Les Paradise Papers',\n",
       " 'révèlent',\n",
       " 'des informations exclusives sur',\n",
       " 'Des chefs d’Etat',\n",
       " 'Des multinationales',\n",
       " 'De grands sportifs',\n",
       " 'Et de riches entrepreneurs.',\n",
       " 'Ils pensaient que ces informations d’intérêt public resteraient secrètes.',\n",
       " 'Pourtant, un collectif de 360 journalistes',\n",
       " 'dans 60 pays travaille depuis une année sur',\n",
       " 'une fuite de données, provenant d’Appleby,',\n",
       " 'le plus gros fournisseur de sociétés offshore du monde.',\n",
       " 'Ils ont découvert que',\n",
       " 'Des sociétés suisses pillent l’Afrique.',\n",
       " '[…]']"
      ]
     },
     "execution_count": 3,
     "metadata": {},
     "output_type": "execute_result"
    }
   ],
   "source": [
    "lines = [i.strip() for i in lines if i != \"\\n\"]\n",
    "lines"
   ]
  },
  {
   "cell_type": "code",
   "execution_count": 4,
   "metadata": {
    "collapsed": true
   },
   "outputs": [],
   "source": [
    "title_gen = \"\"\"                        <title name=\"_Sous-titre_FB_2 : Sous-titre 1\" offset=\"{}s\" ref=\"r2\" duration=\"96096/24000s\" start=\"86399313/24000s\">\n",
    "                            <param name=\"Position\" key=\"9999/1504716720/1504717636/1/100/101\" value=\"2.78625 -460.852\"/>\n",
    "                            <param name=\"Point d’ancrage\" key=\"9999/1504716720/1504717636/1/100/107\" value=\"903.668 -64.558\"/>\n",
    "                            <param name=\"Méthode de présentation\" key=\"9999/1504716720/1504717636/2/314\" value=\"1 (Paragraphe)\"/>\n",
    "                            <param name=\"Marge de droite\" key=\"9999/1504716720/1504717636/2/324\" value=\"1807.34\"/>\n",
    "                            <param name=\"Marge supérieure\" key=\"9999/1504716720/1504717636/2/325\" value=\"37.622\"/>\n",
    "                            <param name=\"Marge inférieure\" key=\"9999/1504716720/1504717636/2/326\" value=\"-134.374\"/>\n",
    "                            <param name=\"Alignement\" key=\"9999/1504716720/1504717636/2/354/264896984/401\" value=\"1 (Au centre)\"/>\n",
    "                            <text>\n",
    "                                <text-style ref=\"ts1\">{}</text-style>\n",
    "                            </text>\n",
    "                            <text-style-def id=\"ts{}\">\n",
    "                                <text-style font=\"Helvetica Neue\" fontSize=\"70\" fontFace=\"Medium\" fontColor=\"1 0.999974 0.999991 1\" alignment=\"center\"/>\n",
    "                            </text-style-def>\n",
    "                        </title>\n",
    "\"\"\""
   ]
  },
  {
   "cell_type": "code",
   "execution_count": 5,
   "metadata": {
    "collapsed": true
   },
   "outputs": [],
   "source": [
    "content = ''\n",
    "counter = 1\n",
    "offset = 0\n",
    "for line in lines[1:]:\n",
    "    content += title_gen.format(offset, line, counter)\n",
    "    counter += 1\n",
    "    offset += 4"
   ]
  },
  {
   "cell_type": "code",
   "execution_count": 6,
   "metadata": {
    "collapsed": true
   },
   "outputs": [],
   "source": [
    "with open('xml_OUTPUT.fcpxml', 'w') as of:\n",
    "    of.write(data.replace('[INSERT]', content))"
   ]
  },
  {
   "cell_type": "code",
   "execution_count": null,
   "metadata": {
    "collapsed": true
   },
   "outputs": [],
   "source": []
  }
 ],
 "metadata": {
  "kernelspec": {
   "display_name": "Python 3",
   "language": "python",
   "name": "python3"
  },
  "language_info": {
   "codemirror_mode": {
    "name": "ipython",
    "version": 3
   },
   "file_extension": ".py",
   "mimetype": "text/x-python",
   "name": "python",
   "nbconvert_exporter": "python",
   "pygments_lexer": "ipython3",
   "version": "3.5.1"
  }
 },
 "nbformat": 4,
 "nbformat_minor": 2
}
